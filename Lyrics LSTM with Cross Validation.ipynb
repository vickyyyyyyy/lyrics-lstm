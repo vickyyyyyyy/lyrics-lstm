{
 "cells": [
  {
   "cell_type": "markdown",
   "id": "a3b4cc3e",
   "metadata": {},
   "source": [
    "# Lyrics LSTM with Cross Validation"
   ]
  },
  {
   "cell_type": "code",
   "execution_count": 1,
   "id": "276ae33c",
   "metadata": {},
   "outputs": [],
   "source": [
    "import numpy as np\n",
    "from torch.utils.data import DataLoader\n",
    "from sklearn.model_selection import StratifiedKFold\n",
    "import matplotlib.pyplot as plt\n",
    "\n",
    "from config import Configuration\n",
    "import preprocess as pp\n",
    "from models import LyricPredictor\n",
    "from train import train\n",
    "\n",
    "np.set_printoptions(threshold=np.inf)\n",
    "%matplotlib inline"
   ]
  },
  {
   "cell_type": "code",
   "execution_count": 2,
   "id": "d3c4de78",
   "metadata": {},
   "outputs": [
    {
     "name": "stdout",
     "output_type": "stream",
     "text": [
      "Number of songs: 93\n"
     ]
    }
   ],
   "source": [
    "c = Configuration()\n",
    "lyrics_dataset = pp.read_lyrics_files(c.path)\n",
    "tokenized = pp.tokenize(lyrics_dataset)"
   ]
  },
  {
   "cell_type": "code",
   "execution_count": 3,
   "id": "8b549af0",
   "metadata": {},
   "outputs": [],
   "source": [
    "def cross_fold_validation(config, n_splits):\n",
    "    print(\"Hyperparameters: \", config)\n",
    "    x, y, dictionary = pp.preprocess(tokenized, config.window_size)\n",
    "\n",
    "    skf = StratifiedKFold(n_splits=n_splits)\n",
    "\n",
    "    valid_batch_size = int(y.shape[0] / n_splits)\n",
    "\n",
    "    all_training_losses = []\n",
    "    all_validation_losses = []\n",
    "\n",
    "    for fold, (train_index, valid_index) in enumerate(skf.split(x,y)):\n",
    "        print(\"fold: {} / {}\".format(fold+1, n_splits))\n",
    "\n",
    "        training_data = DataLoader(list(zip(x[train_index],y[train_index])), batch_size=config.train_batch_size, shuffle=True)\n",
    "        validation_data = DataLoader(list(zip(x[valid_index],y[valid_index])), batch_size=config.valid_batch_size, shuffle=False)\n",
    "\n",
    "        model = LyricPredictor(len(dictionary), config.output_size)\n",
    "\n",
    "        model, training_losses, validation_losses = train(model, training_data, validation_data, config.num_epochs, config.lr, config.grad_max_norm)\n",
    "\n",
    "        all_training_losses.append(training_losses) \n",
    "        all_validation_losses.append(validation_losses) \n",
    "\n",
    "    avg_training_losses = np.mean(np.array(all_training_losses), axis=0)\n",
    "    avg_validation_losses = np.mean(np.array(all_validation_losses), axis=0)\n",
    "    \n",
    "    return avg_training_losses, avg_validation_losses"
   ]
  },
  {
   "cell_type": "markdown",
   "id": "8e3c565e",
   "metadata": {},
   "source": [
    "## Hyperparameter tuning"
   ]
  },
  {
   "cell_type": "code",
   "execution_count": 4,
   "id": "95ed7af4",
   "metadata": {},
   "outputs": [
    {
     "name": "stdout",
     "output_type": "stream",
     "text": [
      "Hyperparameters:  {'artist': 'nicki_minaj', 'path': 'lyrics/nicki_minaj', 'model_path': 'ckpt/model_nicki_minaj', 'window_size': 4, 'train_batch_size': 64, 'valid_batch_size': 64, 'output_size': 128, 'num_epochs': 15, 'lr': 0.001, 'grad_max_norm': 5, 'predict_topk': 5}\n",
      "Vocabulary size:  5039\n"
     ]
    },
    {
     "name": "stderr",
     "output_type": "stream",
     "text": [
      "D:\\Applications\\anaconda3\\lib\\site-packages\\sklearn\\model_selection\\_split.py:666: UserWarning: The least populated class in y has only 1 members, which is less than n_splits=2.\n",
      "  warnings.warn((\"The least populated class in y has only %d\"\n"
     ]
    },
    {
     "name": "stdout",
     "output_type": "stream",
     "text": [
      "fold: 1 / 2\n",
      "epoch: 1 / 15\n",
      "training loss: 5.927522237524228 / validation loss: 5.570751221351374\n",
      "epoch: 2 / 15\n",
      "training loss: 5.149066299654559 / validation loss: 5.4252903341987295\n",
      "epoch: 3 / 15\n",
      "training loss: 4.773908284235104 / validation loss: 5.3547286696423635\n",
      "epoch: 4 / 15\n",
      "training loss: 4.485676474041409 / validation loss: 5.332074667114059\n",
      "epoch: 5 / 15\n",
      "training loss: 4.250275464359192 / validation loss: 5.328261638259057\n",
      "epoch: 6 / 15\n",
      "training loss: 4.060689181803618 / validation loss: 5.351250288013799\n",
      "epoch: 7 / 15\n",
      "training loss: 3.9069273393917707 / validation loss: 5.389338854870765\n",
      "epoch: 8 / 15\n",
      "training loss: 3.7777274745741702 / validation loss: 5.429209136235688\n",
      "epoch: 9 / 15\n",
      "training loss: 3.66881042627987 / validation loss: 5.4815668664986275\n",
      "epoch: 10 / 15\n",
      "training loss: 3.5830234774836787 / validation loss: 5.536106660215424\n",
      "epoch: 11 / 15\n",
      "training loss: 3.5147002252358495 / validation loss: 5.591688820479482\n",
      "epoch: 12 / 15\n",
      "training loss: 3.45287055231647 / validation loss: 5.636192666159736\n",
      "epoch: 13 / 15\n",
      "training loss: 3.4014421792331606 / validation loss: 5.692922842528565\n",
      "epoch: 14 / 15\n",
      "training loss: 3.361373393364202 / validation loss: 5.732730791199961\n",
      "epoch: 15 / 15\n",
      "training loss: 3.325307569212903 / validation loss: 5.77676956638012\n",
      "fold: 2 / 2\n",
      "epoch: 1 / 15\n",
      "training loss: 5.958602085612179 / validation loss: 5.577288761637569\n",
      "epoch: 2 / 15\n",
      "training loss: 5.211219100910594 / validation loss: 5.4306012524498835\n",
      "epoch: 3 / 15\n",
      "training loss: 4.851734290715137 / validation loss: 5.367309840935767\n",
      "epoch: 4 / 15\n",
      "training loss: 4.562946970426439 / validation loss: 5.3390587602046065\n",
      "epoch: 5 / 15\n",
      "training loss: 4.325979944927241 / validation loss: 5.328572112230954\n",
      "epoch: 6 / 15\n",
      "training loss: 4.128267640381857 / validation loss: 5.3427915495205545\n",
      "epoch: 7 / 15\n",
      "training loss: 3.964155396085419 / validation loss: 5.380529530427554\n",
      "epoch: 8 / 15\n",
      "training loss: 3.83320072377689 / validation loss: 5.421019078859317\n",
      "epoch: 9 / 15\n",
      "training loss: 3.723665765687531 / validation loss: 5.465484399421542\n",
      "epoch: 10 / 15\n",
      "training loss: 3.630387322315723 / validation loss: 5.520766302391335\n",
      "epoch: 11 / 15\n",
      "training loss: 3.5539919805422846 / validation loss: 5.56733002018565\n",
      "epoch: 12 / 15\n",
      "training loss: 3.488510986299037 / validation loss: 5.613170989458338\n",
      "epoch: 13 / 15\n",
      "training loss: 3.431530227328697 / validation loss: 5.6645531602414865\n",
      "epoch: 14 / 15\n",
      "training loss: 3.3876092994914337 / validation loss: 5.715045262006373\n",
      "epoch: 15 / 15\n",
      "training loss: 3.34938681826872 / validation loss: 5.7659556008631885\n",
      "Average training loss: [5.94306216 5.1801427  4.81282129 4.52431172 4.2881277  4.09447841\n",
      " 3.93554137 3.8054641  3.6962381  3.6067054  3.5343461  3.47069077\n",
      " 3.4164862  3.37449135 3.33734719] / validation loss: [5.57401999 5.42794579 5.36101926 5.33556671 5.32841688 5.34702092\n",
      " 5.38493419 5.42511411 5.47352563 5.52843648 5.57950942 5.62468183\n",
      " 5.678738   5.72388803 5.77136258]\n"
     ]
    }
   ],
   "source": [
    "results = []\n",
    "c = Configuration()\n",
    "\n",
    "for window_size in [4]:\n",
    "    c.window_size = window_size\n",
    "    for num_epochs in [15]:\n",
    "        c.num_epochs = num_epochs\n",
    "        for train_batch_size in [64]:\n",
    "            c.train_batch_size = train_batch_size\n",
    "            for lr in [0.001]:\n",
    "                c.lr = lr\n",
    "                for output_size in [128]:\n",
    "                    c.output_size = output_size\n",
    "                    for n_splits in [2]:\n",
    "                        avg_training_losses, avg_validation_losses = cross_fold_validation(c, n_splits)\n",
    "\n",
    "                        results.append({ \"config\": c, \"training\": avg_training_losses, \"validation\": avg_validation_losses })\n",
    "                        print(\"Average training loss: {} / validation loss: {}\".format(avg_training_losses, avg_validation_losses))"
   ]
  },
  {
   "cell_type": "markdown",
   "id": "3f6454ab",
   "metadata": {},
   "source": [
    "## Visualization"
   ]
  },
  {
   "cell_type": "code",
   "execution_count": 5,
   "id": "ac53d744",
   "metadata": {},
   "outputs": [
    {
     "data": {
      "image/png": "[encoded data removed]",
      "text/plain": [
       "<Figure size 432x288 with 1 Axes>"
      ]
     },
     "metadata": {
      "needs_background": "light"
     },
     "output_type": "display_data"
    }
   ],
   "source": [
    "for results_index in range(len(results)):\n",
    "    plt.plot(results[results_index][\"training\"], label=\"Training\")\n",
    "    plt.plot(results[results_index][\"validation\"], label=\"Validation\")\n",
    "    plt.legend()\n",
    "    plt.xlabel(\"Epoch\")\n",
    "    plt.ylabel(\"Cross entropy loss\")\n",
    "    plt.ylim(top=7, bottom=0)\n",
    "    plt.title(str(results[results_index][\"config\"]))\n",
    "    plt.show()"
   ]
  },
  {
   "cell_type": "code",
   "execution_count": null,
   "id": "cfc4ca78",
   "metadata": {},
   "outputs": [],
   "source": []
  }
 ],
 "metadata": {
  "kernelspec": {
   "display_name": "Python 3",
   "language": "python",
   "name": "python3"
  },
  "language_info": {
   "codemirror_mode": {
    "name": "ipython",
    "version": 3
   },
   "file_extension": ".py",
   "mimetype": "text/x-python",
   "name": "python",
   "nbconvert_exporter": "python",
   "pygments_lexer": "ipython3",
   "version": "3.8.8"
  }
 },
 "nbformat": 4,
 "nbformat_minor": 5
}
